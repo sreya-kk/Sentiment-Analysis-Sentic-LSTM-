{
 "cells": [
  {
   "cell_type": "code",
   "execution_count": 1,
   "metadata": {},
   "outputs": [],
   "source": [
    "import xml.etree.ElementTree as ET\n",
    "from string import punctuation"
   ]
  },
  {
   "cell_type": "code",
   "execution_count": 2,
   "metadata": {},
   "outputs": [
    {
     "ename": "FileNotFoundError",
     "evalue": "[Errno 2] No such file or directory: '/Volumes/SJwork/aspect-extraction/sequence_tagging/data/EN_REST_SB1_TEST_2016.xml'",
     "output_type": "error",
     "traceback": [
      "\u001b[1;31m---------------------------------------------------------------------------\u001b[0m",
      "\u001b[1;31mFileNotFoundError\u001b[0m                         Traceback (most recent call last)",
      "\u001b[1;32m<ipython-input-2-677ef6b78424>\u001b[0m in \u001b[0;36m<module>\u001b[1;34m\u001b[0m\n\u001b[1;32m----> 1\u001b[1;33m \u001b[0mtree\u001b[0m \u001b[1;33m=\u001b[0m \u001b[0mET\u001b[0m\u001b[1;33m.\u001b[0m\u001b[0mparse\u001b[0m\u001b[1;33m(\u001b[0m\u001b[1;34m'/Volumes/SJwork/aspect-extraction/sequence_tagging/data/EN_REST_SB1_TEST_2016.xml'\u001b[0m\u001b[1;33m)\u001b[0m\u001b[1;33m\u001b[0m\u001b[1;33m\u001b[0m\u001b[0m\n\u001b[0m",
      "\u001b[1;32mf:\\software_instalation(x64)\\python\\Lib\\xml\\etree\\ElementTree.py\u001b[0m in \u001b[0;36mparse\u001b[1;34m(source, parser)\u001b[0m\n\u001b[0;32m   1194\u001b[0m     \"\"\"\n\u001b[0;32m   1195\u001b[0m     \u001b[0mtree\u001b[0m \u001b[1;33m=\u001b[0m \u001b[0mElementTree\u001b[0m\u001b[1;33m(\u001b[0m\u001b[1;33m)\u001b[0m\u001b[1;33m\u001b[0m\u001b[1;33m\u001b[0m\u001b[0m\n\u001b[1;32m-> 1196\u001b[1;33m     \u001b[0mtree\u001b[0m\u001b[1;33m.\u001b[0m\u001b[0mparse\u001b[0m\u001b[1;33m(\u001b[0m\u001b[0msource\u001b[0m\u001b[1;33m,\u001b[0m \u001b[0mparser\u001b[0m\u001b[1;33m)\u001b[0m\u001b[1;33m\u001b[0m\u001b[1;33m\u001b[0m\u001b[0m\n\u001b[0m\u001b[0;32m   1197\u001b[0m     \u001b[1;32mreturn\u001b[0m \u001b[0mtree\u001b[0m\u001b[1;33m\u001b[0m\u001b[1;33m\u001b[0m\u001b[0m\n\u001b[0;32m   1198\u001b[0m \u001b[1;33m\u001b[0m\u001b[0m\n",
      "\u001b[1;32mf:\\software_instalation(x64)\\python\\Lib\\xml\\etree\\ElementTree.py\u001b[0m in \u001b[0;36mparse\u001b[1;34m(self, source, parser)\u001b[0m\n\u001b[0;32m    584\u001b[0m         \u001b[0mclose_source\u001b[0m \u001b[1;33m=\u001b[0m \u001b[1;32mFalse\u001b[0m\u001b[1;33m\u001b[0m\u001b[1;33m\u001b[0m\u001b[0m\n\u001b[0;32m    585\u001b[0m         \u001b[1;32mif\u001b[0m \u001b[1;32mnot\u001b[0m \u001b[0mhasattr\u001b[0m\u001b[1;33m(\u001b[0m\u001b[0msource\u001b[0m\u001b[1;33m,\u001b[0m \u001b[1;34m\"read\"\u001b[0m\u001b[1;33m)\u001b[0m\u001b[1;33m:\u001b[0m\u001b[1;33m\u001b[0m\u001b[1;33m\u001b[0m\u001b[0m\n\u001b[1;32m--> 586\u001b[1;33m             \u001b[0msource\u001b[0m \u001b[1;33m=\u001b[0m \u001b[0mopen\u001b[0m\u001b[1;33m(\u001b[0m\u001b[0msource\u001b[0m\u001b[1;33m,\u001b[0m \u001b[1;34m\"rb\"\u001b[0m\u001b[1;33m)\u001b[0m\u001b[1;33m\u001b[0m\u001b[1;33m\u001b[0m\u001b[0m\n\u001b[0m\u001b[0;32m    587\u001b[0m             \u001b[0mclose_source\u001b[0m \u001b[1;33m=\u001b[0m \u001b[1;32mTrue\u001b[0m\u001b[1;33m\u001b[0m\u001b[1;33m\u001b[0m\u001b[0m\n\u001b[0;32m    588\u001b[0m         \u001b[1;32mtry\u001b[0m\u001b[1;33m:\u001b[0m\u001b[1;33m\u001b[0m\u001b[1;33m\u001b[0m\u001b[0m\n",
      "\u001b[1;31mFileNotFoundError\u001b[0m: [Errno 2] No such file or directory: '/Volumes/SJwork/aspect-extraction/sequence_tagging/data/EN_REST_SB1_TEST_2016.xml'"
     ]
    }
   ],
   "source": [
    "tree = ET.parse('/Volumes/SJwork/aspect-extraction/sequence_tagging/data/EN_REST_SB1_TEST_2016.xml')"
   ]
  },
  {
   "cell_type": "markdown",
   "metadata": {},
   "source": [
    "# All"
   ]
  },
  {
   "cell_type": "code",
   "execution_count": null,
   "metadata": {},
   "outputs": [],
   "source": [
    "import xml.etree.ElementTree as ET\n",
    "from string import punctuation\n",
    "\n",
    "\n",
    "tree = ET.parse('/Volumes/SJwork/aspect-extraction/sequence_tagging/data/EN_REST_SB1_TEST_2016.xml')\n",
    "\n",
    "root = tree.getroot()\n",
    "\n",
    "print(root.tag)\n",
    "\n",
    "sentences = []\n",
    "\n",
    "for sentence in root.iter(\"sentence\"):\n",
    "        text = sentence.find(\"text\")\n",
    "        #print(text.text)\n",
    "        opinions = sentence.findall(\"Opinions\")\n",
    "        #print(opinions)\n",
    "        if len(opinions) > 0:\n",
    "            for opinions in sentence.iter(\"Opinions\"):\n",
    "                aspects = []\n",
    "                for opinion in opinions.iter(\"Opinion\"):\n",
    "                    #print(opinion.attrib)\n",
    "                    aspects.append(opinion.attrib)\n",
    "                sentences.append({\"text\":text.text, \"aspects\":aspects})\n",
    "        else:\n",
    "            sentences.append({\"text\":text.text, \"aspects\": None})\n",
    "\n",
    "out = open(\"/Volumes/SJwork/aspect-extraction/sequence_tagging/data/EN_REST_SB1_TEST_2016.iob\",\"w\", encoding=\"utf-8\")\n",
    "\n",
    "#print(len(sentences))\n",
    "\n",
    "pad = 0\n",
    "global_aspect_count = 0\n",
    "for sentence in sentences:\n",
    "    aspects = sentence[\"aspects\"]\n",
    "    #print(aspects)\n",
    "    text = sentence[\"text\"]\n",
    "    #print(text)\n",
    "    if aspects is None:\n",
    "        pad+=1\n",
    "        text = text.strip()\n",
    "        words = text.split(\" \")\n",
    "        for word in words:\n",
    "            if word.strip() is not \"\":\n",
    "                out.write(word+\"\\t\"+\"O\"+\"\\n\")\n",
    "        out.write(\"\\n\")\n",
    "    else:\n",
    "        pad+=1\n",
    "        dict = {}\n",
    "        for aspect in aspects:\n",
    "            target = aspect[\"target\"]\n",
    "            from_ = int(aspect[\"from\"])\n",
    "            to_ = int(aspect[\"to\"])\n",
    "            if target != \"NULL\" and from_ not in dict.keys():\n",
    "                dict[from_] = [target,from_,to_]\n",
    "            elif from_ in dict.keys():\n",
    "                print(text)\n",
    "                print(target == dict[from_][0])\n",
    "\n",
    "\n",
    "        keys = sorted(dict)\n",
    "\n",
    "        #print(dict)\n",
    "        if len(keys) > 0:\n",
    "            dump = \"\"\n",
    "            last_end = 0\n",
    "            counter = 0\n",
    "\n",
    "            for key in keys:\n",
    "                    global_aspect_count += 1\n",
    "                    vals = dict[key]\n",
    "\n",
    "                    target = vals[0]\n",
    "                    from_ = vals[1]\n",
    "                    to_ = vals[2]\n",
    "\n",
    "                    aspect_ = text[from_:to_]\n",
    "                    temp = text[last_end:from_]\n",
    "                    last_end = to_\n",
    "\n",
    "                    if aspect_ == target:\n",
    "\n",
    "                        storage = \"\"\n",
    "                        aspect = target.split(\" \")\n",
    "                        i = 0\n",
    "                        for asp in aspect:\n",
    "                            if i == 0:\n",
    "                                storage = storage + asp + \"\\t\" + \"B-A\" + \"\\n\"\n",
    "                                i+=1\n",
    "                            else:\n",
    "                                storage = storage + asp + \"\\t\" + \"I-A\" + \"\\n\"\n",
    "                                i+=1\n",
    "                        temp+=storage\n",
    "                        dump+=temp\n",
    "                        if counter == len(keys) -1:\n",
    "                            dump+=text[to_:]\n",
    "                        counter+=1\n",
    "                    else:\n",
    "                        print(aspect_)\n",
    "                        print(target)\n",
    "                        print(\"NO MATCH\")\n",
    "                        counter+=1\n",
    "\n",
    "            if dump!= \"\":\n",
    "                dump = dump.replace(\" \",\"\\t\"+\"O\"+\"\\n\")\n",
    "                dump+= \"\\t\"+\"O\"\n",
    "                out.write(dump+\"\\n\\n\")\n",
    "        else:\n",
    "            #print(\"HERE\")\n",
    "            text = text.strip()\n",
    "            words = text.split(\" \")\n",
    "            for word in words:\n",
    "                if word.strip() is not \"\":\n",
    "                    out.write(word + \"\\t\" + \"O\" + \"\\n\")\n",
    "            out.write(\"\\n\")\n",
    "\n",
    "#print(pad)\n",
    "print(global_aspect_count)\n",
    "out.close()\n",
    "\n",
    "f = open(\"/Volumes/SJwork/aspect-extraction/sequence_tagging/data/EN_REST_SB1_TEST_2016.iob\",\"r\", encoding=\"utf-8\")\n",
    "\n",
    "out = open(\"/Volumes/SJwork/aspect-extraction/sequence_tagging/data/EN_REST_SB1_TEST_2016_mod.iob\",\"w\", encoding=\"utf-8\")\n",
    "\n",
    "for line in f:\n",
    "    if line.strip()!=\"\":\n",
    "        #line = line.replace(\"...\",\" \")\n",
    "        line1 = line.split(\"\\t\")\n",
    "        line2 = ''.join(c for c in line1[0] if c not in punctuation)\n",
    "        if line2.strip() == \"\":\n",
    "         continue\n",
    "        else:\n",
    "            out.write(line2+\"\\t\"+line1[1])\n",
    "    else:\n",
    "        out.write(\"\\n\")\n",
    "out.close()"
   ]
  },
  {
   "cell_type": "code",
   "execution_count": null,
   "metadata": {},
   "outputs": [],
   "source": []
  },
  {
   "cell_type": "code",
   "execution_count": 25,
   "metadata": {},
   "outputs": [],
   "source": [
    "def get_glove_vocab(filename):\n",
    "    \"\"\"Load vocab from file\n",
    "\n",
    "    Args:\n",
    "        filename: path to the glove vectors\n",
    "\n",
    "    Returns:\n",
    "        vocab: set() of strings\n",
    "    \"\"\"\n",
    "    print(\"Building vocab Glove...\")\n",
    "    vocab = set()\n",
    "    f =  open(filename, encoding = \"utf8\")\n",
    "    for line in f:\n",
    "        word = line.strip().split(' ')[0]\n",
    "        vocab.add(word)\n",
    "    f.close()\n",
    "    print(\"- done. {} tokens\".format(len(vocab)))\n",
    "    return vocab"
   ]
  },
  {
   "cell_type": "code",
   "execution_count": 27,
   "metadata": {},
   "outputs": [
    {
     "name": "stdout",
     "output_type": "stream",
     "text": [
      "Building vocab Glove...\n",
      "- done. 2196007 tokens\n"
     ]
    }
   ],
   "source": [
    "file = \"D:/Academics/ML_projects/IBM_sentiment_analysis/Code/Aspect_extraction/data/glove.840B.300d.txt\"\n",
    "x = get_glove_vocab(file)"
   ]
  },
  {
   "cell_type": "code",
   "execution_count": null,
   "metadata": {},
   "outputs": [],
   "source": []
  }
 ],
 "metadata": {
  "kernelspec": {
   "display_name": "Python 3",
   "language": "python",
   "name": "python3"
  },
  "language_info": {
   "codemirror_mode": {
    "name": "ipython",
    "version": 3
   },
   "file_extension": ".py",
   "mimetype": "text/x-python",
   "name": "python",
   "nbconvert_exporter": "python",
   "pygments_lexer": "ipython3",
   "version": "3.6.8"
  }
 },
 "nbformat": 4,
 "nbformat_minor": 2
}
